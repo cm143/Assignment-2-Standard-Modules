{
 "cells": [
  {
   "cell_type": "code",
   "execution_count": null,
   "id": "3bb00833-4397-4555-93cc-26b6bf742a61",
   "metadata": {},
   "outputs": [],
   "source": [
    "memorable_password = ask_numword + ask_case + \"-\" + random.randrange(10)\n",
    "random_password = \n",
    "ask = input(\"Choose to use either a memorable password or a random password: \")\n",
    "if ask == \"memorable\":\n",
    "    ask_numword = input(\"specify the number of words you want in your password: \")\n",
    "    if ask_numword > 1:\n",
    "\n",
    "    else:\n",
    "        break\n",
    "\n",
    "    ask_case = input(\"specify which case, either upper or lower, you would like your password to be: \")\n",
    "    if ask_case == \"upper\":\n",
    "        random_password.ascii_uppercase\n",
    "    if ask_case == \"lower\":\n",
    "        random_password.ascii_lowercase\n",
    "    else:\n",
    "        print(\"please type either 'upper' or 'lower'\")\n",
    "\n",
    "\n",
    "    print(memorable_password)\n",
    "    os.makedirs(Memorable, mode=0o777, exist_ok=False)\n",
    "    append.Generated_Passwords.txt(time.ctime(time.time()) + memorable_password)\n",
    "if ask == \"random\":\n",
    "    ask_length = input(\"type the number of characters you would like the length of your password to be: \")\n",
    "\n",
    "    ask_punct = input(\"would you like punctuation symbols in your password? \")\n",
    "    if ask_punct == \"no\":\n",
    "        break\n",
    "\n",
    "        \n",
    "\n",
    "    ask_characters1 = input(\"are there any characters you would not like to be inlcuded in your password? \")\n",
    "    if ask_characters == \"yes\":\n",
    "        ask_characters2 = input(\"type any characters you would not like to be included in your password: \")\n",
    "    else: \n",
    "        break\n",
    "        \n",
    "    print(random_password)\n",
    "    os.makedirs(Random, mode=0o777, exist_ok=False)\n",
    "    append.Generated_Passwords.txt(time.ctime(time.time()) + random_password)\n",
    "else: print(\"please enter either 'memorable' or 'random'\")"
   ]
  }
 ],
 "metadata": {
  "kernelspec": {
   "display_name": "Python 3 (ipykernel)",
   "language": "python",
   "name": "python3"
  },
  "language_info": {
   "codemirror_mode": {
    "name": "ipython",
    "version": 3
   },
   "file_extension": ".py",
   "mimetype": "text/x-python",
   "name": "python",
   "nbconvert_exporter": "python",
   "pygments_lexer": "ipython3",
   "version": "3.11.5"
  }
 },
 "nbformat": 4,
 "nbformat_minor": 5
}
